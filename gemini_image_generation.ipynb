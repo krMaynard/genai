{
  "nbformat": 4,
  "nbformat_minor": 0,
  "metadata": {
    "colab": {
      "provenance": [],
      "authorship_tag": "ABX9TyMzMBNFGZCirSHC4wDq3axz",
      "include_colab_link": true
    },
    "kernelspec": {
      "name": "python3",
      "display_name": "Python 3"
    },
    "language_info": {
      "name": "python"
    }
  },
  "cells": [
    {
      "cell_type": "markdown",
      "metadata": {
        "id": "view-in-github",
        "colab_type": "text"
      },
      "source": [
        "<a href=\"https://colab.research.google.com/github/krMaynard/genai/blob/main/gemini_image_generation.ipynb\" target=\"_parent\"><img src=\"https://colab.research.google.com/assets/colab-badge.svg\" alt=\"Open In Colab\"/></a>"
      ]
    },
    {
      "cell_type": "code",
      "execution_count": null,
      "metadata": {
        "id": "I-bVK7ebQ04s"
      },
      "outputs": [],
      "source": [
        "# Standard library imports\n",
        "import base64\n",
        "import random\n",
        "import textwrap\n",
        "from io import BytesIO\n",
        "\n",
        "# Third-party imports\n",
        "from google import genai\n",
        "from google.colab import files\n",
        "from google.colab import userdata\n",
        "from google.genai import types\n",
        "from IPython.display import display, Markdown\n",
        "from PIL import Image\n",
        "\n",
        "secret_api_key = userdata.get('GOOGLE_API_KEY')\n",
        "\n",
        "client = genai.Client(api_key=secret_api_key)\n",
        "\n",
        "prompts = []\n",
        "text_responses = []\n",
        "image_filenames = []"
      ]
    },
    {
      "cell_type": "code",
      "source": [
        "kirin_prompt = textwrap.dedent(\"\"\"\\\n",
        "    Generate a hyperrealistic, cinematic photograph of a surreal moment in a modern\n",
        "    Seoul subway station. A full-grown, elegant giraffe is sitting upright\n",
        "    on a polished metal bench, impeccably dressed in a tailored dark grey\n",
        "    business suit with a crisp white shirt and a silk tie. Next to the\n",
        "    giraffe sits a Korean teenage boy in his late teens, wearing\n",
        "    contemporary streetwear (a stylish hoodie, jeans, and sneakers). The\n",
        "    boy is turned towards the giraffe, talking to it with an earnest and\n",
        "    animated expression, gesturing with one hand. The giraffe appears to\n",
        "    be listening intently.\n",
        "\n",
        "    The subway station is clean and brightly lit with a mix of cool\n",
        "    fluorescent overheads and warm accent lights. In the background,\n",
        "    digital signs display train information in glowing Hangul (Korean\n",
        "    script). The tiled walls and floor are pristine, reflecting the\n",
        "    lights. The yellow safety line is visible on the edge of the platform.\n",
        "\n",
        "    Capture the scene with a shallow depth of field, keeping the giraffe\n",
        "    and the boy in sharp focus while the background is softly blurred. The\n",
        "    lighting should create soft shadows, enhancing the realism and the\n",
        "    quiet, intimate nature of their bizarre conversation.\n",
        "\n",
        "    **Style:** Photorealistic, 8K resolution, ultra-detailed, sharp focus,\n",
        "    shot on a Sony A7R IV with a 50mm f/1.2 lens.\\\n",
        "\"\"\")\n",
        "\n",
        "cards_prompt = textwrap.dedent(\"\"\"\\\n",
        "    A minimalist 2D render of a house of cards, built from sleek, single-color\n",
        "    cards. The structure is leaning and unstable, with a few cards sliding\n",
        "    apart, ready to collapse. Set against a clean, solid white background. Corporate infographic style, vibrant accent color.\n",
        "\"\"\")\n",
        "\n",
        "def generate_image(prompt):\n",
        "  prompts.append(prompt)\n",
        "\n",
        "  response = client.models.generate_content(\n",
        "      model=\"gemini-2.5-flash-image-preview\",\n",
        "      contents=prompt,\n",
        "      config=types.GenerateContentConfig(\n",
        "        response_modalities=['TEXT', 'IMAGE']\n",
        "      )\n",
        "  )\n",
        "\n",
        "  for part in response.candidates[0].content.parts:\n",
        "    if part.text is not None:\n",
        "      text_response = part.text\n",
        "      text_responses.append(text_response)\n",
        "    elif part.inline_data is not None:\n",
        "      image = Image.open(BytesIO((part.inline_data.data)))\n",
        "      random_number = random.randint(0, 1000)\n",
        "      image_filename = f'gemini-native-image_{random_number}.png'\n",
        "      image_filenames.append(image_filename)\n",
        "      image.save(image_filename)\n",
        "      image.show()\n",
        "  return response, image_filename\n"
      ],
      "metadata": {
        "id": "vcO0z9owYhI4"
      },
      "execution_count": null,
      "outputs": []
    },
    {
      "cell_type": "code",
      "source": [
        "for i in range(5):\n",
        "  imagen = generate_image(cards_prompt)\n",
        "  image_filename = imagen[1]\n",
        "  print(f'Image {i+1} saved to {image_filename}')"
      ],
      "metadata": {
        "colab": {
          "base_uri": "https://localhost:8080/"
        },
        "id": "hwY4lugoZZV2",
        "outputId": "f68adc0f-4c5f-47c6-91f2-341842c82548"
      },
      "execution_count": null,
      "outputs": [
        {
          "output_type": "stream",
          "name": "stdout",
          "text": [
            "Image 1 saved to gemini-native-image_440.png\n"
          ]
        }
      ]
    },
    {
      "cell_type": "code",
      "source": [
        "# Download all local files\n",
        "\n",
        "for filename in image_filenames:\n",
        "  files.download(filename)"
      ],
      "metadata": {
        "id": "h2WyZFUdZ1x7"
      },
      "execution_count": null,
      "outputs": []
    }
  ]
}